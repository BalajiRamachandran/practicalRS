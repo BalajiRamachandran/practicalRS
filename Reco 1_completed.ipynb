{
 "cells": [
  {
   "cell_type": "markdown",
   "metadata": {},
   "source": [
    "# Recommenders 1\n",
    "\n",
    "Here we explore simple matrix factorization models for recommendation \n",
    "\n",
    "## Collaborative Filtering\n",
    "\n",
    "On the internet, people rate items (or simply click on them, showing preference). All these ratings can be seen as a matrix coding for all ratings of size (n_user,n_item).It's worth noting that this matrix is highly sparse: No one rates everything, people only rate a subset of items.\n",
    "\n",
    "Recommendation (more specifically **collaborative filtering**) goal can be seen as predicting how someone will rate one item. This is akin to filling this matrix, by predicting all missing ratings. The most used algorithms for this task are matrix factorization ones: they take advantage from the fact that a matrix can be decomposed into two sub-matrices: one coding for the users and one coding for the items.\n",
    "\n",
    "## Why predicting ratings and not directly items:\n",
    "\n",
    "Theoritically, the goal of a recommender system is to cherry pick interesting items for one user within a huge collection. Rating prediction is a surrogate problem of item prediction. To get what item to recommend you can, for exemple, simply sort best rated items. It has been shown that improving rating prediction actually improve item prediction.\n",
    "\n",
    "\n",
    "\n",
    "## Data: [smallest movie-lens dataset](https://grouplens.org/datasets/movielens/)\n",
    "\n",
    "In this practical we use a small dataset of user ratings on movies. Specifically, we treat the dataset as list of $(user,item,rating)$ triplets.\n",
    "\n",
    "\n",
    "## Goals of this practical:\n",
    "\n",
    "- Visualize different learnt latent item space\n",
    "- Implement different matrix factorization algorithms for explicit collaborative filtering\n",
    "- Understand and Implement both prediction and ranking evaluation metrics"
   ]
  },
  {
   "cell_type": "markdown",
   "metadata": {},
   "source": [
    "----\n",
    "## Warmup (read & run): Visualize learnt item embeddings with PCA & T-SNE\n",
    "\n",
    "### Load data\n",
    "\n",
    "We need read each line from the CSV to extract $(user,item,rating)$ triplets. Also, each user and item id's has to be remapped to be contiguous."
   ]
  },
  {
   "cell_type": "code",
   "execution_count": 1,
   "metadata": {
    "collapsed": false
   },
   "outputs": [
    {
     "name": "stdout",
     "output_type": "stream",
     "text": [
      "userId,movieId,rating,timestamp\n",
      "\n",
      "there are (610, 9724) users and items\n"
     ]
    }
   ],
   "source": [
    "import numpy as np\n",
    "\n",
    "# Rating matrices are highly sparse (there are many missing ratings).\n",
    "# Therefore, the use of sparse matrices is recommended.\n",
    "\n",
    "from scipy.sparse import dok_matrix\n",
    "\n",
    "# Data file is a CSV\n",
    "with open(\"dataset/ml-latest-small/ratings.csv\") as ratings:\n",
    "    rating_data = ratings.readlines()\n",
    "\n",
    "# We separate the header from actual data\n",
    "header = rating_data[0]\n",
    "print(header)\n",
    "\n",
    "# Data is CSV: userID,itemID,rating,timestamp\n",
    "rating_data = rating_data[1:] #contains list(tuple(uid,iid,rating,timestamp))\n",
    "\n",
    "\n",
    "# Helper to transform one \"str\" line to a tuple\n",
    "def line2tuple(l):\n",
    "    uid,iid,rating, timestamp = l.strip().split(\",\")\n",
    "    return (int(uid),int(iid),float(rating), int(timestamp))\n",
    "\n",
    "# generator for one line. (enables direct unpacking)\n",
    "def tl(l):\n",
    "    for x in l:\n",
    "        yield(line2tuple(x))\n",
    "\n",
    "# We first remap users and item to ids between (0,len(user)) and (0,len(item))\n",
    "u_dic = {}\n",
    "i_dic = {}\n",
    "        \n",
    "all_data = []\n",
    "    \n",
    "    \n",
    "for uid,iid,rating,ts in tl(rating_data):  # iterating on all data\n",
    "    uk = u_dic.setdefault(uid,len(u_dic))\n",
    "    ik = i_dic.setdefault(iid,len(i_dic))\n",
    "    all_data.append((uk,ik,float(rating)))\n",
    "\n",
    "num_user = len(u_dic)\n",
    "num_item = len(i_dic)\n",
    "\n",
    "print(\"there are \"+str((num_user,num_item)) +\" users and items\")\n"
   ]
  },
  {
   "cell_type": "markdown",
   "metadata": {},
   "source": [
    "## Visualizing item latent space\n",
    "Factorizing a matrices into two submatrices yields embeddings of users and items. These embeddings encode the similarity that can exists between users or between items. They can be visualized with algorithms such as PCA and T-SNE. In this first part, we aim at visualizing obtained item embeddings following a factorization on the entire rating matrix.\n",
    "\n",
    "\n",
    "- To do so, we propose to use the following function `save_embeddings` and [the tensorflow projector](http://projector.tensorflow.org/) to visualize obtained latent features with pca and t-sne.\n",
    "\n",
    "\n"
   ]
  },
  {
   "cell_type": "code",
   "execution_count": 3,
   "metadata": {
    "collapsed": true
   },
   "outputs": [],
   "source": [
    "# This function saves embeddings (a numpy array) and associated labels into tsv files.\n",
    "\n",
    "def save_embeddings(embs,dict_label,path):\n",
    "    \"\"\"\n",
    "    embs is Numpy.array(N,size)\n",
    "    dict_label is {str(word)->int(idx)} or {int(idx)->str(word)}\n",
    "    \"\"\"\n",
    "    def int_first(k,v):\n",
    "        if type(k) == int:\n",
    "            return (k,v)\n",
    "        else:\n",
    "            return (v,k)\n",
    "\n",
    "    np.savetxt(f\"{path}_vectors.tsv\", embs, delimiter=\"\\t\")\n",
    "\n",
    "    #labels \n",
    "    if dict_label:\n",
    "        sorted_labs = np.array([lab for idx,lab in sorted([int_first(k,v) for k,v in dict_label.items()])])\n",
    "        print(sorted_labs)\n",
    "        with open(f\"{path}_metadata.tsv\",\"w\") as metadata_file:\n",
    "            for x in sorted_labs: #hack for space\n",
    "                if len(x.strip()) == 0:\n",
    "                    x = f\"space-{len(x)}\"\n",
    "                    \n",
    "                metadata_file.write(f\"{x}\\n\")\n",
    "                "
   ]
  },
  {
   "cell_type": "markdown",
   "metadata": {},
   "source": [
    "### Factorization on full rating matrix: decompose rating matrix with NMF and visualize items\n",
    "Three things to do:\n",
    "    - Create sparse matrix of ratings (from $(user,item,rating)$ tuples)\n",
    "    - Factorize it with NMF into U (user sub-matrix) and I (item sub-matrix)\n",
    "    - Extract item labels (movie titles) and save embeddings/labels with preceding function "
   ]
  },
  {
   "cell_type": "code",
   "execution_count": null,
   "metadata": {
    "collapsed": false
   },
   "outputs": [],
   "source": [
    "from sklearn.decomposition import NMF\n",
    "\n",
    "num_user = len(u_dic)\n",
    "num_item = len(i_dic)\n",
    "\n",
    "# (1) Create sparse matrix from all ratings\n",
    "Full = dok_matrix((num_user, num_item), dtype=np.float32)\n",
    "\n",
    "for uid,iid,rating in all_data:\n",
    "    Full[uid,iid] = float(rating)\n",
    "    \n",
    "    \n",
    "# (2) Factorizing matrix\n",
    "\n",
    "model = NMF(n_components=25, init='random', random_state=0, max_iter=350)\n",
    "U = model.fit_transform(Full) #users\n",
    "I = model.components_      #items\n",
    "\n",
    "I = I.transpose()\n",
    "I.shape\n",
    "\n",
    "# (3) Loading labels and saving embeddings + vectors\n",
    "\n",
    "\n",
    "# data is csv with header\n",
    "with open(\"dataset/ml-latest-small/movies.csv\") as movies:\n",
    "    movie_data = movies.readlines()\n",
    "\n",
    "# print header\n",
    "print(movie_data[0])\n",
    "\n",
    "# id-> title dictionnary\n",
    "movie_names = {}\n",
    "\n",
    "for x in movie_data[1:]:\n",
    "    iid, title, *rest =  x.split(',')\n",
    "    \n",
    "    iid = float(iid)\n",
    "    \n",
    "\n",
    "    if iid in i_dic:\n",
    "        movie_names[i_dic[iid]] = title\n",
    "\n",
    "\n",
    "####################################\n",
    " \n",
    "# Saving into \"item_50_vectors.tsv\" and \"item_50_metadata.tsv\".\n",
    "save_embeddings(I,movie_names,\"item_50\")\n",
    "\n"
   ]
  },
  {
   "cell_type": "markdown",
   "metadata": {},
   "source": [
    "### Visualize on TensorFlow Projector:\n",
    "[Saved vectors/label can be visualized in tensorflow projector](http://projector.tensorflow.org/)\n",
    "\n",
    "> Files are saved by default as \"item_50_vectors.tsv\" and \"item_50_metadata.tsv\" in root jupyter directory"
   ]
  },
  {
   "cell_type": "markdown",
   "metadata": {},
   "source": [
    "-------------------------\n",
    "\n",
    "\n",
    "# (Explicit) Collaborative Filtering  by predicting ratings:\n",
    "\n",
    "The Netflix competition introduced this predictive framework: the goal is to predict missing ratings using existing ones.\n",
    "\n",
    "##  Vanilla NMF AND SVD for rating prediction\n",
    "\n",
    "First, we test two simple models:\n",
    "- Non Negative Matrix Factorization\n",
    "- SVD\n",
    "\n",
    "Given a real rating $r_{ui}$ and a predicted rating $\\hat{r_{ui}}$ on an **observed** couple $(u,i)$ \n",
    "\n",
    "Rating prediction's goal is to minimize mean the prediction error over each $N$ **observed** ratings\n",
    "## $$\\min\\limits_{U,I} \\frac{1}{N}\\sum\\limits_{(u,i)} (r_{ui} -  \\hat{r_{ui}})^2 $$\n"
   ]
  },
  {
   "cell_type": "markdown",
   "metadata": {},
   "source": [
    "### ** Building Train/Test set **\n",
    "\n",
    "To train/test our models, we first split our data into two parts"
   ]
  },
  {
   "cell_type": "code",
   "execution_count": null,
   "metadata": {
    "collapsed": false
   },
   "outputs": [],
   "source": [
    "# We take 10% of the train set as test data\n",
    "train_mat = dok_matrix((num_user, num_item), dtype=np.float32)\n",
    "test = []\n",
    "train = []\n",
    "    \n",
    "for i,(uid,iid,rating) in enumerate(all_data):\n",
    "    if i%10 == 0: #one out of 10 is for test\n",
    "        test.append((uid,iid,rating))\n",
    "    else:\n",
    "        train.append((uid,iid,rating))\n",
    "        train_mat[uid,iid] = rating\n",
    "    \n",
    "print(\"Number of train examples: \", train_mat.nnz)\n",
    "print(\"Number of test examples: \", len(test))\n"
   ]
  },
  {
   "cell_type": "markdown",
   "metadata": {},
   "source": [
    "## ** Evaluating error **:\n",
    "\n",
    "The goal is to minimize the mean difference between the $n$ predicted and true ratings (respectively $\\hat{r_{ui}}, r_{ui}$). \n",
    "\n",
    "Two common metrics are the Mean Squared Error (MSE) $$\\frac{1}{n}\\sum^1_n (r_{ui}-\\hat{r_{ui}})^2$$ and the Mean Absolute Error (MAE) $$\\frac{1}{n}\\sum^1_n abs(r_{ui}-\\hat{r_{ui}})$$.\n",
    "\n",
    "## 1 ) Complete error functions (TODO)"
   ]
  },
  {
   "cell_type": "code",
   "execution_count": 6,
   "metadata": {
    "collapsed": true
   },
   "outputs": [],
   "source": [
    "# take as input two lists of ratings\n",
    "\n",
    "def MSE_err(truth,pred):\n",
    "    \"\"\"\n",
    "    computes MSE from real-pred difference\n",
    "    \"\"\"\n",
    "    return np.mean(np.power(np.array(truth-pred),2))\n",
    "\n",
    "def MAE_err(truth,pred):\n",
    "    \"\"\"\n",
    "    computes MAE from real-pred difference\n",
    "    \"\"\"\n",
    "    return np.mean(np.abs(np.array(truth-pred)))\n",
    "        \n"
   ]
  },
  {
   "cell_type": "markdown",
   "metadata": {},
   "source": [
    "\n",
    "\n",
    "Here, we propose have the simple following **prediction rule**: the predicted rating is simply the dot product of the considered user and item embeddings\n",
    "\n",
    "## $$\\hat{r_{ui}} = <U_u^\\top.I_i> $$\n",
    "\n",
    "This is akin to decomposing the training matrix into two sub-matrices using SVD.\n",
    "\n",
    "## Pointers on what to do: \n",
    "\n",
    "1. complete prediction function\n",
    "- fit nmf model and get User and Item profiles to make a prediction\n",
    "- fit svd model and get User and Item profiles to make a prediction"
   ]
  },
  {
   "cell_type": "code",
   "execution_count": 7,
   "metadata": {
    "collapsed": false
   },
   "outputs": [
    {
     "name": "stdout",
     "output_type": "stream",
     "text": [
      "----------------------NMF---------------------------\n",
      "(610, 100)\n",
      "(9724, 100)\n",
      "Training Error:\n",
      "MSE: 3.6961360604156157\n",
      "MAE: 1.313830754659812\n",
      "Test Error:\n",
      "MSE: 10.425430823030808\n",
      "MAE: 3.0319268899620258\n"
     ]
    }
   ],
   "source": [
    "from sklearn.decomposition import NMF, TruncatedSVD\n",
    "\n",
    "\n",
    "print(\"----------------------NMF---------------------------\")\n",
    "\n",
    "\n",
    "\n",
    "## NMF model\n",
    "model = NMF(n_components=100, solver='cd' ,random_state=0, max_iter=100,alpha=5,l1_ratio=0.5)\n",
    "\n",
    "#get submatrices\n",
    "U_nmf = model.fit_transform(train_mat)\n",
    "I_nmf = model.components_.transpose()\n",
    "\n",
    "print(U_nmf.shape)\n",
    "print(I_nmf.shape)\n",
    "\n",
    "def pred_func_nmf(uid,iid):\n",
    "    \n",
    "    Uu = U_nmf[uid]\n",
    "    Ii = I_nmf[iid]\n",
    "    \n",
    "    return np.dot(Uu,Ii)  \n",
    "\n",
    "\n",
    "## Getting the truth values\n",
    "truth_tr = np.array([rating for (uid,iid),rating in train_mat.items()])\n",
    "truth_te = np.array([rating for uid,iid,rating in test])\n",
    "\n",
    "prediction_tr = np.array([pred_func_nmf(u,i) for (u,i),rating in train_mat.items()])\n",
    "prediction_te = np.array([pred_func_nmf(u,i) for u,i,rating in test])\n",
    "\n",
    "\n",
    "print(\"Training Error:\")\n",
    "print(\"MSE:\",  MSE_err(prediction_tr,truth_tr))\n",
    "print(\"MAE:\",  MAE_err(prediction_tr,truth_tr))\n",
    "    \n",
    "print(\"Test Error:\")\n",
    "print(\"MSE:\",  MSE_err(prediction_te,truth_te))\n",
    "print(\"MAE:\",  MAE_err(prediction_te,truth_te))\n",
    "\n",
    "\n"
   ]
  },
  {
   "cell_type": "code",
   "execution_count": 8,
   "metadata": {
    "collapsed": false
   },
   "outputs": [
    {
     "name": "stdout",
     "output_type": "stream",
     "text": [
      "----------------------SVD---------------------------\n",
      "Training Error:\n",
      "MSE: 1.6994271\n",
      "MAE: 0.7944529\n",
      "Test Error:\n",
      "MSE: 11.761561385214991\n",
      "MAE: 3.2461926790194213\n"
     ]
    }
   ],
   "source": [
    "print(\"----------------------SVD---------------------------\")\n",
    "\n",
    "## SVD Model\n",
    "\n",
    "model = TruncatedSVD(n_components=150)\n",
    "\n",
    "#get submatrices\n",
    "U_svd = model.fit_transform(train_mat)\n",
    "I_svd = model.components_.transpose()\n",
    "\n",
    "\n",
    "def pred_func_svd(uid,iid):\n",
    "    \n",
    "    Uu = U_svd[uid]\n",
    "    Ii = I_svd[iid]\n",
    "    \n",
    "    return np.dot(Uu,Ii)  \n",
    "\n",
    "    \n",
    "prediction_tr = np.array([pred_func_svd(u,i) for (u,i),rating in train_mat.items()])\n",
    "prediction_te = np.array([pred_func_svd(u,i) for u,i,rating in test])\n",
    "\n",
    "\n",
    "print(\"Training Error:\")\n",
    "print(\"MSE:\",  MSE_err(prediction_tr,truth_tr))\n",
    "print(\"MAE:\",  MAE_err(prediction_tr,truth_tr))\n",
    "    \n",
    "print(\"Test Error:\")\n",
    "print(\"MSE:\",  MSE_err(prediction_te,truth_te))\n",
    "print(\"MAE:\",  MAE_err(prediction_te,truth_te))\n",
    "\n",
    "\n"
   ]
  },
  {
   "cell_type": "markdown",
   "metadata": {},
   "source": [
    "### Save and visualize nmf & svd embeddings:"
   ]
  },
  {
   "cell_type": "code",
   "execution_count": 9,
   "metadata": {
    "collapsed": false
   },
   "outputs": [
    {
     "name": "stdout",
     "output_type": "stream",
     "text": [
      "['Toy Story (1995)' 'Grumpier Old Men (1995)' 'Heat (1995)' ...\n",
      " 'Hazard (2005)' 'Blair Witch (2016)' '31 (2016)']\n",
      "['Toy Story (1995)' 'Grumpier Old Men (1995)' 'Heat (1995)' ...\n",
      " 'Hazard (2005)' 'Blair Witch (2016)' '31 (2016)']\n"
     ]
    }
   ],
   "source": [
    "save_embeddings(I_svd,movie_names,\"svd\")\n",
    "save_embeddings(I_nmf,movie_names,\"nmf\")"
   ]
  },
  {
   "cell_type": "markdown",
   "metadata": {},
   "source": [
    "----------------\n",
    "\n",
    "# Normalization and Regularization\n",
    "\n",
    "\n",
    "Trying to decompose a sparse matrix this way is highly prone to overfitting: The train error is low, but the test error is much higher. Traditionnally, models are highly regularized to achieve better performances.\n",
    "\n",
    "$$\n",
    "\\min\\limits_{U,I}\\sum\\limits_{(u,i)} \\underbrace{(r_{ui} -  I_i^\\top U_u)^2}_\\text{minimization} + \\underbrace{\\lambda(||U_u||^2+||I_u||^2)}_\\text{regularization}\n",
    "$$\n",
    "\n",
    "Here we were trying to factorize rating patterns within latent profiles. However, it is common to mean normalize each rating to model \"mean deviation\" instead. In the next part of this practical session, we will explore two mean normalization techniques for rating prediction. \n",
    "\n",
    "**Mean normalization** is a common way to improve performance in rating prediction. In fact, the global average is one of the simplest baseline to try when doing rating prediction\n",
    "\n",
    "\n",
    "## (TODO) Mean baseline:\n",
    "\n",
    "\n",
    "To get the mean baseline:\n",
    "\n",
    "- (1) compute training set mean\n",
    "- (2) complete prediction function\n",
    "\n",
    "The prediction rule simply is:\n",
    "## $$\\hat{r_{ui}} = \\mu  $$"
   ]
  },
  {
   "cell_type": "code",
   "execution_count": 10,
   "metadata": {
    "collapsed": false
   },
   "outputs": [
    {
     "name": "stdout",
     "output_type": "stream",
     "text": [
      "----------------------MEAN ONLY---------------------------\n",
      "mean rating is  3.5020936\n",
      "Training Error:\n",
      "MSE: 1.0865998\n",
      "MAE: 0.8272643\n",
      "Test Error:\n",
      "MSE: 1.0891692158238202\n",
      "MAE: 0.8258433086632831\n"
     ]
    }
   ],
   "source": [
    "print(\"----------------------MEAN ONLY---------------------------\")\n",
    "\n",
    "\n",
    "# compute mean of list(train_mat.values())\n",
    "mean = np.mean([r for _,r in train_mat.items()])\n",
    "\n",
    "\n",
    "def pred_func_mean(uid,iid):    \n",
    "    return mean\n",
    "\n",
    "print(\"mean rating is \", mean)\n",
    "\n",
    "\n",
    "prediction_tr = np.array([pred_func_mean(u,i) for (u,i),rating in train_mat.items()])\n",
    "prediction_te = np.array([pred_func_mean(u,i) for u,i,rating in test])\n",
    "\n",
    "print(\"Training Error:\")\n",
    "print(\"MSE:\",  MSE_err(prediction_tr,truth_tr))\n",
    "print(\"MAE:\",  MAE_err(prediction_tr,truth_tr))\n",
    "    \n",
    "print(\"Test Error:\")\n",
    "print(\"MSE:\",  MSE_err(prediction_te,truth_te))\n",
    "print(\"MAE:\",  MAE_err(prediction_te,truth_te))"
   ]
  },
  {
   "cell_type": "markdown",
   "metadata": {},
   "source": [
    "Indeed, using only the mean ratings to predict future ratings has much MUCH better performances than our two previous models...\n",
    "\n",
    "### (TODO) Taking the mean rating into account:\n",
    "\n",
    "Most work on rating prediction model mean ratings. The goal is to only factor deviation from the mean instead of modeling the full rating pattern.\n",
    "\n",
    "To take into account the mean, the easiest way is to substract it by doing the following:\n",
    "\n",
    "- (1) compute training set mean\n",
    "- (2) remove mean from training rating matrix\n",
    "- (3) factorize the normalized matrix\n",
    "- (4) when predicting a rating, simply add the mean\n",
    "\n",
    "The prediction rule becomes:\n",
    "## $$\\hat{r_{ui}} = \\mu  + <U_u^\\top.I_i> $$"
   ]
  },
  {
   "cell_type": "code",
   "execution_count": 11,
   "metadata": {
    "collapsed": false
   },
   "outputs": [
    {
     "name": "stdout",
     "output_type": "stream",
     "text": [
      "Training Error:\n",
      "MSE: 0.16967031\n",
      "MAE: 0.22270362\n",
      "Test Error:\n",
      "MSE: 1.0510823654476742\n",
      "MAE: 0.8103558682865777\n"
     ]
    }
   ],
   "source": [
    "from sklearn.decomposition import NMF, TruncatedSVD\n",
    "\n",
    "\n",
    "# (1) compute mean of list(train_mat.values())\n",
    "mean = mean\n",
    "\n",
    "\n",
    "\n",
    "\n",
    "# (2) remove mean from training matrix\n",
    "tmn = dok_matrix((num_user, num_item), dtype=np.float32)\n",
    "\n",
    "for (uid,iid), rating in train_mat.items():\n",
    "    tmn[uid,iid] = rating - mean\n",
    "\n",
    "# (3) factorize matrix\n",
    "model_norm = TruncatedSVD(n_components=150)\n",
    "\n",
    "#get submatrices\n",
    "U_msvd = model.fit_transform(tmn)\n",
    "I_msvd = model.components_.transpose()\n",
    "\n",
    "def pred_func_msvd(uid,iid): \n",
    "    \n",
    "    Uu = U_msvd[uid]\n",
    "    Ii = I_msvd[iid]\n",
    "    \n",
    "    return np.dot(Uu,Ii) + mean\n",
    "\n",
    "\n",
    "prediction_tr = np.array([pred_func_msvd(u,i) for (u,i),rating in train_mat.items()])\n",
    "prediction_te = np.array([pred_func_msvd(u,i) for u,i,rating in test])\n",
    "\n",
    "\n",
    "print(\"Training Error:\")\n",
    "print(\"MSE:\",  MSE_err(prediction_tr,truth_tr))\n",
    "print(\"MAE:\",  MAE_err(prediction_tr,truth_tr))\n",
    "    \n",
    "print(\"Test Error:\")\n",
    "print(\"MSE:\",  MSE_err(prediction_te,truth_te))\n",
    "print(\"MAE:\",  MAE_err(prediction_te,truth_te))\n",
    "    \n",
    "    \n"
   ]
  },
  {
   "cell_type": "markdown",
   "metadata": {},
   "source": [
    "## (Seminal) Koren 2009 model:\n",
    "\n",
    "the following model propose to even more refine the bias. In addition to the mean bias, it adds a bias for each user and for each item. The goal is to only factorize the mean rating deviation. This model also enables a more finely grained baseline estimate:\n",
    "\n",
    "\n",
    "> Suppose that you want\n",
    "a first-order estimate for user Joe’s rating of the movie\n",
    "Titanic. Now, say that the average rating over all movies, µ,\n",
    "is 3.7 stars. Furthermore, Titanic is better than an average\n",
    "movie, so it tends to be rated 0.5 stars above the average.\n",
    "On the other hand, Joe is a critical user, who tends to rate\n",
    "0.3 stars lower than the average. Thus, the estimate for\n",
    "Titanic’s rating by Joe would be 3.9 stars (3.7 + 0.5 - 0.3)\n",
    "\n",
    "The prediction rule is the following:\n",
    "\n",
    "### $$r_{ui} = \\mu + \\mu_i + \\mu_u + U_u^\\top .I_i $$\n",
    "\n"
   ]
  },
  {
   "cell_type": "code",
   "execution_count": 16,
   "metadata": {
    "collapsed": false
   },
   "outputs": [
    {
     "name": "stdout",
     "output_type": "stream",
     "text": [
      "Training Error:\n",
      "MSE: 0.11655318919197581\n",
      "MAE: 0.1822708474618395\n",
      "Test Error:\n",
      "MSE: 0.8050965983705777\n",
      "MAE: 0.6806878934807243\n"
     ]
    }
   ],
   "source": [
    "from sklearn.decomposition import NMF, TruncatedSVD\n",
    "\n",
    "\n",
    "def group_by_user(tuple_list):\n",
    "    r_dic = {}\n",
    "    for uid,iid,rating in tuple_list:\n",
    "        list_rev = r_dic.get(uid,[])\n",
    "        list_rev.append(rating)\n",
    "    \n",
    "        r_dic[uid] =list_rev\n",
    "    return r_dic\n",
    "\n",
    "\n",
    "def group_by_item(tuple_list):\n",
    "    r_dic = {}\n",
    "    for uid,iid,rating in tuple_list:\n",
    "        list_rev = r_dic.get(iid,[])\n",
    "        list_rev.append(rating)\n",
    "    \n",
    "        r_dic[iid] =list_rev\n",
    "    return r_dic\n",
    "\n",
    "\n",
    "\n",
    "\n",
    "\n",
    "# (1) compute mean of list(train_mat.values())\n",
    "mean = mean\n",
    "\n",
    "\n",
    "u_means = {u:(np.mean(ratings - mean)) for u,ratings in group_by_user(train).items()}\n",
    "i_means = {i:(np.mean(ratings) - mean) for i,ratings in group_by_item(train).items()}\n",
    "\n",
    "\n",
    "\n",
    "\n",
    "# (2) remove means from training matrix\n",
    "tmn_k = dok_matrix((num_user, num_item), dtype=np.float32)\n",
    "\n",
    "for (uid,iid), rating in train_mat.items():\n",
    "    tmn_k[uid,iid] = rating - mean - u_means.get(uid,0) - i_means.get(iid,0)\n",
    "\n",
    "# (3) factorize matrix\n",
    "model_kor = TruncatedSVD(n_components=150)\n",
    "\n",
    "\n",
    "U_ksvd = model.fit_transform(tmn_k)\n",
    "I_ksvd = model.components_.transpose()\n",
    "\n",
    "def pred_func_ksvd(uid,iid):\n",
    "    Uu = U_ksvd[uid]\n",
    "    Ii = I_ksvd[iid]\n",
    "    \n",
    "    return np.dot(Uu,Ii) + mean + u_means.get(uid,0) + i_means.get(iid,0)\n",
    "\n",
    "\n",
    "prediction_tr = np.array([pred_func_ksvd(u,i) for (u,i),rating in train_mat.items()])\n",
    "prediction_te = np.array([pred_func_ksvd(u,i) for u,i,rating in test])\n",
    "\n",
    "\n",
    "print(\"Training Error:\")\n",
    "print(\"MSE:\",  MSE_err(prediction_tr,truth_tr))\n",
    "print(\"MAE:\",  MAE_err(prediction_tr,truth_tr))\n",
    "    \n",
    "print(\"Test Error:\")\n",
    "print(\"MSE:\",  MSE_err(prediction_te,truth_te))\n",
    "print(\"MAE:\",  MAE_err(prediction_te,truth_te))\n",
    "    \n",
    "    \n"
   ]
  },
  {
   "cell_type": "markdown",
   "metadata": {},
   "source": [
    "### Save and visualize nmf & svd embeddings:"
   ]
  },
  {
   "cell_type": "code",
   "execution_count": 12,
   "metadata": {
    "collapsed": false
   },
   "outputs": [
    {
     "ename": "SyntaxError",
     "evalue": "unexpected EOF while parsing (<ipython-input-12-8f64c2d03bdb>, line 2)",
     "output_type": "error",
     "traceback": [
      "\u001b[0;36m  File \u001b[0;32m\"<ipython-input-12-8f64c2d03bdb>\"\u001b[0;36m, line \u001b[0;32m2\u001b[0m\n\u001b[0;31m    save_embeddings(###,movie_names,\"nmf\")\u001b[0m\n\u001b[0m                                          ^\u001b[0m\n\u001b[0;31mSyntaxError\u001b[0m\u001b[0;31m:\u001b[0m unexpected EOF while parsing\n"
     ]
    }
   ],
   "source": [
    "save_embeddings(###,movie_names,\"svd\")\n",
    "save_embeddings(###,movie_names,\"nmf\")"
   ]
  },
  {
   "cell_type": "markdown",
   "metadata": {},
   "source": [
    "This is, by far, the best model (test mse $\\approx$ 0.804) .\n",
    "\n",
    "\n",
    "### Takeways:\n",
    "\n",
    "In general, when predicting ratings, it is critical to model rating bias. Its also worth noting that other biases exists. Notably, people don't rate items at random. Taking into account **what** people rate is at least as important as taking into account **how** people rate. See [SVD++](http://www.cs.rochester.edu/twiki/pub/Main/HarpSeminar/Factorization_Meets_the_Neighborhood-_a_Multifaceted_Collaborative_Filtering_Model.pdf), a model which models, in addition to rating biais, implicit information."
   ]
  },
  {
   "cell_type": "markdown",
   "metadata": {
    "collapsed": true
   },
   "source": [
    "------------\n",
    "\n",
    "# Collaborative Filtering and Ranking Metrics\n",
    "\n",
    "Most of the time recommender systems present $k$ items to the users. Therefore, recommenders are often evaluated by how many relevant items are in their $k$ set (using ranking metrics).\n",
    "\n",
    "Different ranking methods exists such as the [Mean Reciprocal Rank](http://en.wikipedia.org/wiki/Mean_reciprocal_rank) or the [normalized Discounted Cumulative Gain](https://en.wikipedia.org/wiki/Discounted_cumulative_gain)\n",
    "\n",
    "Here we focus on the latter as it can take into account rating scores.\n",
    "\n",
    "## (TODO) Implementing nDCG"
   ]
  },
  {
   "cell_type": "code",
   "execution_count": 17,
   "metadata": {
    "collapsed": false
   },
   "outputs": [
    {
     "data": {
      "text/plain": [
       "0.7942854176010882"
      ]
     },
     "execution_count": 17,
     "metadata": {},
     "output_type": "execute_result"
    }
   ],
   "source": [
    "\n",
    "\n",
    "# The dcg@k is the sum of the relevance, penalized gradually\n",
    "def dcg_at_k(r, k):\n",
    "    \"\"\"Score is discounted cumulative gain (dcg)\n",
    "        r: Relevance scores (list or numpy) in rank order\n",
    "            (first element is the first item)\n",
    "        k: Number of results to consider\n",
    "        \n",
    "    \"\"\"\n",
    "    r = np.asfarray(r)[:k]\n",
    "    if r.size:\n",
    "        return np.sum(r / np.log2(np.arange(2, r.size + 2)))\n",
    "        \n",
    "    return 0.\n",
    "\n",
    "# test values\n",
    "# r = [3, 2, 3, 0, 0, 1, 2, 2, 3, 0]\n",
    "# dcg_at_k(r, 1) => 3.0\n",
    "# dcg_at_k(r, 2) => 4.2618595071429155\n",
    "    \n",
    "\n",
    "# And it's normalized version\n",
    "def ndcg_at_k(r, k):\n",
    "    \"\"\"\n",
    "        r: Relevance scores (list or numpy) in rank order\n",
    "            (first element is the first item)\n",
    "        k: Number of results to consider\n",
    "    \"\"\"\n",
    "    dcg_max =  dcg_at_k(sorted(r)[::-1],k)  # TO COMPLETE \n",
    "    if not dcg_max:\n",
    "        return 0.\n",
    "    return dcg_at_k(r, k) / dcg_max\n",
    "\n",
    "# test values\n",
    "# r = [3, 2, 3, 0, 0, 1, 2, 2, 3, 0]\n",
    "# ndcg_at_k(r, 1) => 1.0\n",
    "# ndcg_at_k(r, 4) => 0.794285\n",
    "    \n",
    "r = [3, 2, 3, 0, 0, 1, 2, 2, 3, 0]    \n",
    "ndcg_at_k(r, 4)   "
   ]
  },
  {
   "cell_type": "markdown",
   "metadata": {},
   "source": [
    "## (TODO) compute nDCG on test lists.\n",
    "\n",
    "One first thing to do is to compute the nDCG on our tests list. This enables us to answer the following question:\n",
    "\n",
    "- Can our model properly sort what the user has seen ? (But hasn't been train on)\n",
    "\n",
    "To compare ourselves, we first build a random baseline which simply shuffles test ratings.\n",
    "\n",
    "\n",
    "=> What is nDCG for every model we tried ? ?\n",
    "\n",
    "\n",
    "### Pointers:\n",
    "\n",
    "Here, we first compute average ndcg on **test set only**. The goal is simply to see how well our model sorts what has been seen. Here are the steps to follow:\n",
    "\n",
    "1. We group each test set $(user,item,rating)$ by user -> this gives you a list of items per user\n",
    "2. Then, using previous models prediction functions, you predict each items' rating\n",
    "3. Using those provided ratings, you can sort the items\n",
    "4. Using these sorted items, you can have the sorted list of real ratings to compute ndcg.\n"
   ]
  },
  {
   "cell_type": "code",
   "execution_count": 62,
   "metadata": {
    "collapsed": false
   },
   "outputs": [
    {
     "name": "stdout",
     "output_type": "stream",
     "text": [
      "train\n",
      "----------\n",
      "mean == random 0.7619539212066418\n",
      "ndcg nmf 0.8908062109038278\n",
      "ndcg svd 0.9271868672687147\n",
      "ndcg svd + mean 0.8908062109038278\n",
      "ndcg svd koren 0.9736244669125971\n",
      " \n",
      "test\n",
      "----------\n",
      "mean == random 0.8923979008671923\n",
      "ndcg nmf 0.9277563420114506\n",
      "ndcg svd 0.9140889738153642\n",
      "ndcg svd + mean 0.9277563420114506\n",
      "ndcg svd koren 0.9319512282311233\n"
     ]
    }
   ],
   "source": [
    "from random import shuffle\n",
    "\n",
    "#1) Group (uid,iid,rating) per uid\n",
    "def group_by_user(tuple_list):\n",
    "    r_dic = {}\n",
    "    for uid,iid,rating in tuple_list:\n",
    "        list_rev = r_dic.get(uid,[])\n",
    "        list_rev.append((uid,iid,rating))\n",
    "    \n",
    "        r_dic[uid] =list_rev\n",
    "    return r_dic #returns {uid:[(uid,iid,rating),...],...}\n",
    "\n",
    "\n",
    "\n",
    "userg_train = group_by_user(train)  #returns {uid:[(uid,iid,rating),...],...}\n",
    "userg_test = group_by_user(test)\n",
    "\n",
    "\n",
    "# Function to compute a random shuffle ndcg\n",
    "def random_ndcg(uid_group_tuples,k=10):\n",
    "    mean_ndcg = 0\n",
    "    num_users = 0\n",
    "    \n",
    "    #for each test set\n",
    "    for _,list_rating in uid_group_tuples.items():\n",
    "\n",
    "        #shuffle real ratings.\n",
    "        real_ratings = [rating for uid,iid,rating in list_rating]\n",
    "        shuffle(real_ratings)\n",
    "        pred_objects = real_ratings\n",
    "\n",
    "        mean_ndcg += ndcg_at_k(pred_objects,k)\n",
    "        num_users += 1\n",
    "\n",
    "    return  mean_ndcg/num_users\n",
    "\n",
    "\n",
    "\n",
    "#Function to compute ndcg on test set\n",
    "def mean_ndcg_UI(U,I,pred_function,uid_group_tuples,k=10):\n",
    "    mean_ndcg = 0\n",
    "    num_users = 0\n",
    "    \n",
    "    #for each test set\n",
    "    for _,list_rating in uid_group_tuples.items():\n",
    "        \n",
    "        #2)compute predictions\n",
    "        pred_ratings = [(pred_function(uid,iid)) for uid,iid,rating in list_rating]\n",
    "        \n",
    "        #3)to sort real ratings\n",
    "        real_ratings = [rating for uid,iid,rating in list_rating]\n",
    "        pred_objects = [ real_ratings[rid] for rid in np.argsort(pred_ratings)[::-1]]\n",
    "        \n",
    "        #4)and compute ndcg\n",
    "        mean_ndcg += ndcg_at_k(pred_objects,k)\n",
    "        num_users += 1\n",
    "\n",
    "    return  mean_ndcg/num_users\n",
    "    \n",
    "    \n",
    "\n",
    "print(\"train\") \n",
    "print(\"-\"*10)\n",
    "print(\"mean == random\", random_ndcg(userg_train))\n",
    "print(\"ndcg nmf\", mean_ndcg_UI(U_nmf,I_nmf,pred_func_nmf,userg_train)) \n",
    "print(\"ndcg svd\", mean_ndcg_UI(U_svd,I_svd,pred_func_svd,userg_train))\n",
    "print(\"ndcg svd + mean\", mean_ndcg_UI(U_msvd,I_msvd,pred_func_nmf,userg_train))\n",
    "print(\"ndcg svd koren\", mean_ndcg_UI(U_ksvd,I_ksvd,pred_func_ksvd,userg_train))\n",
    "\n",
    "print(\" \")\n",
    "\n",
    "print(\"test\")    \n",
    "print(\"-\"*10) \n",
    "print(\"mean == random\", random_ndcg(userg_test))\n",
    "print(\"ndcg nmf\", mean_ndcg_UI(U_nmf,I_nmf,pred_func_nmf,userg_test)) \n",
    "print(\"ndcg svd\", mean_ndcg_UI(U_svd,I_svd,pred_func_svd,userg_test))\n",
    "print(\"ndcg svd + mean\", mean_ndcg_UI(U_msvd,I_msvd,pred_func_nmf,userg_test))\n",
    "print(\"ndcg svd koren\", mean_ndcg_UI(U_ksvd,I_ksvd,pred_func_ksvd,userg_test))\n",
    "\n",
    "\n",
    "\n",
    "\n"
   ]
  },
  {
   "cell_type": "markdown",
   "metadata": {},
   "source": [
    "## nDCG on full item set\n",
    "When computing the nDCG on the test list, you assume that you already know what the user will rate. In a real setting, this information is unknown. All you know is what the user already rated and it's up to you to find both  **what** and **how** people will rate.\n",
    "\n",
    "One obvious baseline here is the **item popularity**, where we simply rank items by their number of ratings. Unseen items in test set are considered not interesting and have a score of 0\n",
    "\n",
    "Let's see how our model perform in terms of nDCG on the full (unseen) item set:\n",
    "\n",
    "### Pointers:\n",
    "\n",
    "Here, we compute average ndcg on **unseen item set**. The goal is simply to see how well our model sorts what has not been seen. Here are the steps to follow:\n",
    "\n",
    "1. Using previous models prediction functions, you predict each unseen items' rating\n",
    "3. Using those provided ratings, you can sort the items\n",
    "4. Using these sorted items, you can have the sorted list of real ratings to compute ndcg."
   ]
  },
  {
   "cell_type": "code",
   "execution_count": 71,
   "metadata": {
    "collapsed": false
   },
   "outputs": [
    {
     "name": "stdout",
     "output_type": "stream",
     "text": [
      "mean == random 0.0010350278796436149\n",
      "ndcg pop 0.42951812056426664\n",
      "ndcg nmf 0.33706435442735555\n",
      "ndcg svd 0.25726680207566305\n",
      "ndcg svd + mean 0.33706435442735555\n",
      "ndcg svd koren 0.023264815183591633\n"
     ]
    }
   ],
   "source": [
    "from collections import Counter\n",
    "\n",
    "counts = Counter(iid for _,iid,_ in train)\n",
    "\n",
    "#the popularity predictor\n",
    "def pop_pred(uid,iid):\n",
    "    return counts[iid]\n",
    "\n",
    "#Random ndcg, return a shuffled lists of all possible ratings\n",
    "def random_ndcg_full(k=10,default=0):\n",
    "    mean_ndcg = 0\n",
    "    num_users = 0\n",
    "    \n",
    "    for _,list_rating in userg_test.items():\n",
    "\n",
    "        #all possible ratings\n",
    "        real_ratings = [rating for uid,iid,rating in list_rating] + [default]*(num_item - len(list_rating) - len(userg_train[uid]))\n",
    "        shuffle(real_ratings)\n",
    "        pred_objects = real_ratings\n",
    "        \n",
    "        mean_ndcg += ndcg_at_k(pred_objects,k)\n",
    "        num_users += 1\n",
    "\n",
    "    return  mean_ndcg/len(userg_test)\n",
    "\n",
    "\n",
    "def mean_ndcg_UI_FULL(U,I,pred_function,k=10,default=0):\n",
    "    mean_ndcg = 0\n",
    "    \n",
    "    test_users = set(uid for uid,_,_ in test)\n",
    "    \n",
    "    for user in test_users:\n",
    "        u_train_set = set(iid for _,iid,_ in userg_train[uid])\n",
    "        u_test_dic =  {iid:rating for uid,iid,rating in userg_test[uid]}\n",
    "        \n",
    "        pred_ratings = []\n",
    "        real_ratings = []\n",
    "        \n",
    "        \n",
    "        for item in range(num_item):\n",
    "            \n",
    "            if item in u_train_set:\n",
    "                continue\n",
    "            else:\n",
    "                p_rating = pred_function(user,item)\n",
    "            \n",
    "            pred_ratings.append(p_rating)\n",
    "            real_ratings.append(u_test_dic.get(item,default))\n",
    "            \n",
    "        pred_objects = [ real_ratings[rid] for rid in np.argsort(pred_ratings)[::-1]]\n",
    "        \n",
    "        \n",
    "        mean_ndcg += ndcg_at_k(pred_objects,k)\n",
    "\n",
    "    return  mean_ndcg/len(test_users)\n",
    "\n",
    "print(\"mean == random\", random_ndcg_full())\n",
    "print(\"ndcg pop\", mean_ndcg_UI_FULL(U_nmf,I_nmf,pop_pred)) \n",
    "print(\"ndcg nmf\", mean_ndcg_UI_FULL(U_nmf,I_nmf,pred_func_nmf)) \n",
    "print(\"ndcg svd\", mean_ndcg_UI_FULL(U_svd,I_svd,pred_func_svd))\n",
    "print(\"ndcg svd + mean\", mean_ndcg_UI_FULL(U_msvd,I_msvd,pred_func_nmf))\n",
    "print(\"ndcg svd koren\", mean_ndcg_UI_FULL(U_msvd,I_msvd,pred_func_ksvd))\n"
   ]
  },
  {
   "cell_type": "markdown",
   "metadata": {},
   "source": [
    "Obviously the random baseline is way out. However, more surprisingly, our best model for rating prediction has the worst score when computing such nDCG, while it had the best one one unseen data. \n",
    "\n",
    "## Takeways:\n",
    "\n",
    "When doing recommendation you have two tasks: \n",
    "\n",
    "- predicting how someone will like something (this is the rating prediction)\n",
    "- predicting what someone will see\n",
    "\n",
    "Matrix factorization algorithms trained on rating prediction **without** taking into account what has been rated do not perform well on predicting what will be seen. Different algorithms exists to solve the task of predicting **what** will be seen. The most famous one is [BPR: Bayesian Personalized Ranking from Implicit Feedback](https://arxiv.org/abs/1205.2618). \n",
    "\n"
   ]
  },
  {
   "cell_type": "markdown",
   "metadata": {},
   "source": [
    "## (Bonus) w2v as a recommender:\n",
    "\n",
    "Word2vec can be used to encode item co-occurences. Then, using the cosine similarity you can predict which items are similar to seen training items. This is a simple yet effective way to provide item recommendations\n",
    "\n",
    "\n",
    "### 1) First, we train a word2vec model where the text is replaced by items id."
   ]
  },
  {
   "cell_type": "code",
   "execution_count": 72,
   "metadata": {
    "collapsed": false
   },
   "outputs": [
    {
     "name": "stderr",
     "output_type": "stream",
     "text": [
      "2018-12-07 12:22:46,374 : INFO : collecting all words and their counts\n",
      "2018-12-07 12:22:46,375 : INFO : PROGRESS: at sentence #0, processed 0 words, keeping 0 word types\n",
      "2018-12-07 12:22:46,386 : INFO : collected 6037 word types from a corpus of 43730 raw words and 610 sentences\n",
      "2018-12-07 12:22:46,387 : INFO : Loading a fresh vocabulary\n",
      "2018-12-07 12:22:46,402 : INFO : min_count=3 retains 2648 unique words (43% of original 6037, drops 3389)\n",
      "2018-12-07 12:22:46,402 : INFO : min_count=3 leaves 39443 word corpus (90% of original 43730, drops 4287)\n",
      "2018-12-07 12:22:46,410 : INFO : deleting the raw counts dictionary of 6037 items\n",
      "2018-12-07 12:22:46,411 : INFO : sample=0.001 downsamples 33 most-common words\n",
      "2018-12-07 12:22:46,411 : INFO : downsampling leaves estimated 38502 word corpus (97.6% of prior 39443)\n",
      "2018-12-07 12:22:46,412 : INFO : estimated required memory for 2648 words and 100 dimensions: 3442400 bytes\n",
      "2018-12-07 12:22:46,418 : INFO : resetting layer weights\n",
      "2018-12-07 12:22:46,453 : INFO : training model with 3 workers on 2648 vocabulary and 100 features, using sg=1 hs=0 sample=0.001 negative=15 window=2\n",
      "2018-12-07 12:22:47,021 : INFO : worker thread finished; awaiting finish of 2 more threads\n",
      "2018-12-07 12:22:47,023 : INFO : worker thread finished; awaiting finish of 1 more threads\n",
      "2018-12-07 12:22:47,086 : INFO : worker thread finished; awaiting finish of 0 more threads\n",
      "2018-12-07 12:22:47,087 : INFO : training on 218650 raw words (192525 effective words) took 0.6s, 305566 effective words/s\n",
      "2018-12-07 12:22:47,088 : WARNING : under 10 jobs per worker: consider setting a smaller `batch_words' for smoother alpha decay\n"
     ]
    }
   ],
   "source": [
    "import gensim\n",
    "import logging\n",
    "logging.basicConfig(format='%(asctime)s : %(levelname)s : %(message)s', level=logging.INFO)\n",
    "\n",
    "#words are in fact item ids\n",
    "text = [ [str(iid) for _,iid,rating in l if rating >= 3] for u,l in userg_train.items()]\n",
    "\n",
    "# the following configuration is the default configuration\n",
    "w2v = gensim.models.word2vec.Word2Vec(sentences=text,\n",
    "                                size=100, window=2,               ### here we train a cbow model \n",
    "                                min_count=3,                      \n",
    "                                sample=0.001, workers=3,\n",
    "                                sg=1, hs=0, negative=15,        ### set sg to 1 to train a sg model\n",
    "                                cbow_mean=0,\n",
    "                                iter=5)"
   ]
  },
  {
   "cell_type": "markdown",
   "metadata": {},
   "source": [
    "### 2) The similarity can then be used to find similar items"
   ]
  },
  {
   "cell_type": "code",
   "execution_count": 73,
   "metadata": {
    "collapsed": false
   },
   "outputs": [
    {
     "name": "stderr",
     "output_type": "stream",
     "text": [
      "2018-12-07 12:22:55,473 : INFO : precomputing L2-norms of word weight vectors\n"
     ]
    },
    {
     "data": {
      "text/plain": [
       "[484, 502, 294, 259, 2663]"
      ]
     },
     "execution_count": 73,
     "metadata": {},
     "output_type": "execute_result"
    }
   ],
   "source": [
    "\n",
    "def get_similar_ids(iid,num=5):\n",
    "    if str(iid) in w2v.wv.vocab:\n",
    "        return [int(iid) for iid,_ in w2v.most_similar(str(iid),topn=num)] \n",
    "    else:\n",
    "        return []\n",
    "\n",
    "get_similar_ids(1)"
   ]
  },
  {
   "cell_type": "code",
   "execution_count": 75,
   "metadata": {
    "collapsed": false
   },
   "outputs": [
    {
     "name": "stdout",
     "output_type": "stream",
     "text": [
      "ndcg w2v simple 0.13632320547928628\n"
     ]
    }
   ],
   "source": [
    "\n",
    "def mean_ndcg_w2v_FULL(n=2,k=10,default=0):\n",
    "    mean_ndcg = 0\n",
    "    \n",
    "    test_users = set(uid for uid,_,_ in test)\n",
    "    \n",
    "    for user in test_users:\n",
    "        u_train_set = set(iid for _,iid,rating in userg_train[uid] if rating >= 4)\n",
    "        u_test_dic =  {iid:rating for uid,iid,rating in userg_test[uid]}\n",
    "        \n",
    "        pred_items = set(iid for ids in u_train_set for iid in get_similar_ids(ids,n) if iid not in u_train_set)\n",
    "        not_pred = set(iid for x in range(num_item) if (x not in u_train_set and x not in pred_items))\n",
    "        pred_items = list(pred_items) \n",
    "\n",
    "        pred_objects = [ u_test_dic.get(rid,default) for rid in list(pred_items) + list(not_pred)]\n",
    "        \n",
    "        \n",
    "        mean_ndcg += ndcg_at_k(pred_objects,k)\n",
    "\n",
    "    return  mean_ndcg/len(test_users)\n",
    "\n",
    "print(\"ndcg w2v simple\", mean_ndcg_w2v_FULL())\n",
    "    "
   ]
  },
  {
   "cell_type": "markdown",
   "metadata": {},
   "source": [
    "### Takeaways \n",
    "This works ok, but still not better than popularity baseline. Our dataset is small and our method to get items from similarity is far too simple.\n",
    "\n",
    "\n",
    "### Finally:\n",
    "Try and visualize learnt embeddings (is there something to see ?)"
   ]
  },
  {
   "cell_type": "code",
   "execution_count": null,
   "metadata": {
    "collapsed": true
   },
   "outputs": [],
   "source": [
    "###save_embeddings(,movie_names,\"w2v\")"
   ]
  }
 ],
 "metadata": {
  "kernelspec": {
   "display_name": "Python 3",
   "language": "python",
   "name": "python3"
  },
  "language_info": {
   "codemirror_mode": {
    "name": "ipython",
    "version": 3
   },
   "file_extension": ".py",
   "mimetype": "text/x-python",
   "name": "python",
   "nbconvert_exporter": "python",
   "pygments_lexer": "ipython3",
   "version": "3.6.0"
  }
 },
 "nbformat": 4,
 "nbformat_minor": 2
}
